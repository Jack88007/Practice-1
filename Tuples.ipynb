{
  "cells": [
    {
      "cell_type": "markdown",
      "metadata": {
        "id": "view-in-github",
        "colab_type": "text"
      },
      "source": [
        "<a href=\"https://colab.research.google.com/github/Jack88007/Practice-1/blob/main/Tuples.ipynb\" target=\"_parent\"><img src=\"https://colab.research.google.com/assets/colab-badge.svg\" alt=\"Open In Colab\"/></a>"
      ]
    },
    {
      "cell_type": "code",
      "source": [
        "a = ()\n",
        "b = (1,)\n",
        "c = (1, 2.3)\n",
        "d = 1, 2.3, 'hello'\n",
        "print('',a)\n",
        "print('',b)\n",
        "print('',c)\n",
        "print('',d)"
      ],
      "metadata": {
        "colab": {
          "base_uri": "https://localhost:8080/"
        },
        "id": "Mq_Q0piXCfUD",
        "outputId": "c846e793-5ed6-49eb-9908-32c2244cb20a"
      },
      "execution_count": null,
      "outputs": [
        {
          "output_type": "stream",
          "name": "stdout",
          "text": [
            " ()\n",
            " (1,)\n",
            " (1, 2.3)\n",
            " (1, 2.3, 'hello')\n"
          ]
        }
      ]
    },
    {
      "cell_type": "code",
      "source": [
        "type(c)"
      ],
      "metadata": {
        "colab": {
          "base_uri": "https://localhost:8080/"
        },
        "id": "myhSr2vHJfvM",
        "outputId": "4a9c0217-16c4-486f-8388-6ee51889f7bf"
      },
      "execution_count": null,
      "outputs": [
        {
          "output_type": "execute_result",
          "data": {
            "text/plain": [
              "tuple"
            ]
          },
          "metadata": {},
          "execution_count": 13
        }
      ]
    },
    {
      "cell_type": "code",
      "source": [
        "d[-1]"
      ],
      "metadata": {
        "colab": {
          "base_uri": "https://localhost:8080/",
          "height": 35
        },
        "id": "jyyQ_0ifJsif",
        "outputId": "32866a65-2c83-4ac7-a880-004415c5beba"
      },
      "execution_count": null,
      "outputs": [
        {
          "output_type": "execute_result",
          "data": {
            "text/plain": [
              "'hello'"
            ],
            "application/vnd.google.colaboratory.intrinsic+json": {
              "type": "string"
            }
          },
          "metadata": {},
          "execution_count": 14
        }
      ]
    },
    {
      "cell_type": "code",
      "source": [
        "id(a)"
      ],
      "metadata": {
        "colab": {
          "base_uri": "https://localhost:8080/"
        },
        "id": "vzGxXpESKrZD",
        "outputId": "877c4d41-1f71-41d3-ab92-6f4b38a1ad4f"
      },
      "execution_count": null,
      "outputs": [
        {
          "output_type": "execute_result",
          "data": {
            "text/plain": [
              "140169706774608"
            ]
          },
          "metadata": {},
          "execution_count": 15
        }
      ]
    },
    {
      "cell_type": "code",
      "source": [
        "id(d)"
      ],
      "metadata": {
        "colab": {
          "base_uri": "https://localhost:8080/"
        },
        "id": "281ek5oQKxUg",
        "outputId": "86491f7e-46db-47dc-abeb-2fbcdf688a45"
      },
      "execution_count": null,
      "outputs": [
        {
          "output_type": "execute_result",
          "data": {
            "text/plain": [
              "140169162982736"
            ]
          },
          "metadata": {},
          "execution_count": 16
        }
      ]
    },
    {
      "cell_type": "code",
      "source": [
        "id(d[1])"
      ],
      "metadata": {
        "colab": {
          "base_uri": "https://localhost:8080/"
        },
        "id": "ircMpx-UKxOi",
        "outputId": "6b9ae038-5134-472e-e667-3e4e318b264f"
      },
      "execution_count": null,
      "outputs": [
        {
          "output_type": "execute_result",
          "data": {
            "text/plain": [
              "140169163149712"
            ]
          },
          "metadata": {},
          "execution_count": 19
        }
      ]
    },
    {
      "cell_type": "code",
      "source": [
        "id(d)"
      ],
      "metadata": {
        "colab": {
          "base_uri": "https://localhost:8080/"
        },
        "id": "G6fVifzILJH1",
        "outputId": "bd0bc15c-11a9-423d-ef01-d379c260d1b8"
      },
      "execution_count": null,
      "outputs": [
        {
          "output_type": "execute_result",
          "data": {
            "text/plain": [
              "140169162982736"
            ]
          },
          "metadata": {},
          "execution_count": 20
        }
      ]
    },
    {
      "cell_type": "code",
      "source": [
        "id(d[2])"
      ],
      "metadata": {
        "colab": {
          "base_uri": "https://localhost:8080/"
        },
        "id": "-_1XPKX0LOM4",
        "outputId": "463106f2-cfe6-4a54-e5aa-7418c038c0fe"
      },
      "execution_count": null,
      "outputs": [
        {
          "output_type": "execute_result",
          "data": {
            "text/plain": [
              "140169375458416"
            ]
          },
          "metadata": {},
          "execution_count": 21
        }
      ]
    },
    {
      "cell_type": "code",
      "source": [
        "id(d[1])"
      ],
      "metadata": {
        "colab": {
          "base_uri": "https://localhost:8080/"
        },
        "id": "bfDyKYd0LRvS",
        "outputId": "1c506650-df10-4a8a-8698-496ea27bfbc4"
      },
      "execution_count": null,
      "outputs": [
        {
          "output_type": "execute_result",
          "data": {
            "text/plain": [
              "140169163149712"
            ]
          },
          "metadata": {},
          "execution_count": 23
        }
      ]
    },
    {
      "cell_type": "code",
      "source": [
        "id(d[0])"
      ],
      "metadata": {
        "colab": {
          "base_uri": "https://localhost:8080/"
        },
        "id": "dqkAHbUALbWA",
        "outputId": "8d3210a2-2913-425b-bd2b-93a515cccd2d"
      },
      "execution_count": null,
      "outputs": [
        {
          "output_type": "execute_result",
          "data": {
            "text/plain": [
              "11256064"
            ]
          },
          "metadata": {},
          "execution_count": 27
        }
      ]
    },
    {
      "cell_type": "markdown",
      "source": [
        "Tuple Packing, unpacking and slicing"
      ],
      "metadata": {
        "id": "4d-3_3SW29s6"
      }
    },
    {
      "cell_type": "code",
      "source": [
        "a = (1, 2.1, 3, 4, 'hellooo')\n",
        "print (a)"
      ],
      "metadata": {
        "id": "o6S51jSv3F3T",
        "outputId": "507828bc-e78c-455c-c580-be290905305e",
        "colab": {
          "base_uri": "https://localhost:8080/"
        }
      },
      "execution_count": 7,
      "outputs": [
        {
          "output_type": "stream",
          "name": "stdout",
          "text": [
            "(1, 2.1, 3, 4, 'hellooo')\n"
          ]
        }
      ]
    },
    {
      "cell_type": "code",
      "source": [
        "len (a)\n"
      ],
      "metadata": {
        "id": "9nnfAjtu3kmD",
        "outputId": "194c7859-d62d-4305-89be-f8d1b48e3a4f",
        "colab": {
          "base_uri": "https://localhost:8080/"
        }
      },
      "execution_count": 2,
      "outputs": [
        {
          "output_type": "execute_result",
          "data": {
            "text/plain": [
              "5"
            ]
          },
          "metadata": {},
          "execution_count": 2
        }
      ]
    },
    {
      "cell_type": "code",
      "source": [
        "len (a[4])"
      ],
      "metadata": {
        "id": "fPmSD4uc3qqp",
        "outputId": "6f1ff453-b606-4ba7-b2b5-6552df1caaae",
        "colab": {
          "base_uri": "https://localhost:8080/"
        }
      },
      "execution_count": 8,
      "outputs": [
        {
          "output_type": "execute_result",
          "data": {
            "text/plain": [
              "7"
            ]
          },
          "metadata": {},
          "execution_count": 8
        }
      ]
    },
    {
      "cell_type": "code",
      "source": [
        "a = 2\n",
        "b = 3\n",
        "c = 'Hello bro'\n",
        "\n",
        "y = a, b, c\n",
        "print (y)"
      ],
      "metadata": {
        "id": "l8PLlSXT4OPd",
        "outputId": "17e60e62-dc37-4867-98ae-1b1a2afc030a",
        "colab": {
          "base_uri": "https://localhost:8080/"
        }
      },
      "execution_count": 14,
      "outputs": [
        {
          "output_type": "stream",
          "name": "stdout",
          "text": [
            "(100, 'python', 3.89, 1000)\n"
          ]
        }
      ]
    },
    {
      "cell_type": "code",
      "source": [
        "y = 100,'python', 1\n",
        "\n",
        "a, b, c = y\n",
        "print (a)\n",
        "print (b)\n",
        "print (c)"
      ],
      "metadata": {
        "id": "67rr2vzE5Cll",
        "outputId": "a1263e06-04b6-4a41-a84f-3d76e443c8c2",
        "colab": {
          "base_uri": "https://localhost:8080/"
        }
      },
      "execution_count": 27,
      "outputs": [
        {
          "output_type": "stream",
          "name": "stdout",
          "text": [
            "100\n",
            "python\n",
            "1\n"
          ]
        }
      ]
    },
    {
      "cell_type": "code",
      "source": [
        "print (a, b, c)"
      ],
      "metadata": {
        "id": "JyDfMbmr5Qy5",
        "outputId": "b40940da-c660-4906-f9de-b6ebb84d57d0",
        "colab": {
          "base_uri": "https://localhost:8080/"
        }
      },
      "execution_count": 28,
      "outputs": [
        {
          "output_type": "stream",
          "name": "stdout",
          "text": [
            "100 python 1\n"
          ]
        }
      ]
    },
    {
      "cell_type": "code",
      "source": [
        "print (y)"
      ],
      "metadata": {
        "id": "5Z1YzQ5d5VW6",
        "outputId": "9c3c24fb-dca5-4b4c-ff86-b5e2ccf20d4b",
        "colab": {
          "base_uri": "https://localhost:8080/"
        }
      },
      "execution_count": 29,
      "outputs": [
        {
          "output_type": "stream",
          "name": "stdout",
          "text": [
            "(100, 'python', 1)\n"
          ]
        }
      ]
    },
    {
      "cell_type": "code",
      "source": [
        "4%3 in y"
      ],
      "metadata": {
        "id": "TKtRjobj5XbD",
        "outputId": "33bea9fe-d6ea-4fdc-fd8c-03ba59aaa73e",
        "colab": {
          "base_uri": "https://localhost:8080/"
        }
      },
      "execution_count": 30,
      "outputs": [
        {
          "output_type": "execute_result",
          "data": {
            "text/plain": [
              "True"
            ]
          },
          "metadata": {},
          "execution_count": 30
        }
      ]
    },
    {
      "cell_type": "code",
      "source": [
        "INDEX = y.index (4%3) \n",
        "print (INDEX)"
      ],
      "metadata": {
        "id": "Pdqg0t_I6aH2",
        "outputId": "0ba73d83-ba2f-487c-c0b1-cc15c108540b",
        "colab": {
          "base_uri": "https://localhost:8080/"
        }
      },
      "execution_count": 34,
      "outputs": [
        {
          "output_type": "stream",
          "name": "stdout",
          "text": [
            "2\n"
          ]
        }
      ]
    },
    {
      "cell_type": "code",
      "source": [
        "del (y)\n",
        "print (y)"
      ],
      "metadata": {
        "id": "ncOKYxpQCMFU",
        "outputId": "c0687624-ff92-4b72-d1a1-b6de46101851",
        "colab": {
          "base_uri": "https://localhost:8080/",
          "height": 183
        }
      },
      "execution_count": 36,
      "outputs": [
        {
          "output_type": "error",
          "ename": "NameError",
          "evalue": "ignored",
          "traceback": [
            "\u001b[0;31m---------------------------------------------------------------------------\u001b[0m",
            "\u001b[0;31mNameError\u001b[0m                                 Traceback (most recent call last)",
            "\u001b[0;32m<ipython-input-36-0e5a12a5a19c>\u001b[0m in \u001b[0;36m<module>\u001b[0;34m\u001b[0m\n\u001b[0;32m----> 1\u001b[0;31m \u001b[0;32mdel\u001b[0m \u001b[0;34m(\u001b[0m\u001b[0my\u001b[0m\u001b[0;34m)\u001b[0m\u001b[0;34m\u001b[0m\u001b[0;34m\u001b[0m\u001b[0m\n\u001b[0m\u001b[1;32m      2\u001b[0m \u001b[0mprint\u001b[0m \u001b[0;34m(\u001b[0m\u001b[0my\u001b[0m\u001b[0;34m)\u001b[0m\u001b[0;34m\u001b[0m\u001b[0;34m\u001b[0m\u001b[0m\n",
            "\u001b[0;31mNameError\u001b[0m: name 'y' is not defined"
          ]
        }
      ]
    },
    {
      "cell_type": "code",
      "source": [
        "x = 1, 3, 3.56, 'hello', 'python'"
      ],
      "metadata": {
        "id": "mxfNCqmsCVwc"
      },
      "execution_count": 37,
      "outputs": []
    },
    {
      "cell_type": "code",
      "source": [
        "print (x[1:4])"
      ],
      "metadata": {
        "id": "6lgE166FCeY8",
        "outputId": "450bd376-2aa0-454f-ace3-18b64a175015",
        "colab": {
          "base_uri": "https://localhost:8080/"
        }
      },
      "execution_count": 38,
      "outputs": [
        {
          "output_type": "stream",
          "name": "stdout",
          "text": [
            "(3, 3.56, 'hello')\n"
          ]
        }
      ]
    },
    {
      "cell_type": "code",
      "source": [
        "print (x[:4])\n"
      ],
      "metadata": {
        "id": "v223XA-DCm1G",
        "outputId": "4d582a0b-e0ba-4bf1-ced5-764c4e2a9dc1",
        "colab": {
          "base_uri": "https://localhost:8080/"
        }
      },
      "execution_count": 45,
      "outputs": [
        {
          "output_type": "stream",
          "name": "stdout",
          "text": [
            "(1, 3, 3.56, 'hello')\n"
          ]
        }
      ]
    },
    {
      "cell_type": "code",
      "source": [
        "print (x[4:])"
      ],
      "metadata": {
        "id": "WQ-NCY2dCrZo",
        "outputId": "e7c636a7-6bc8-4e27-ed88-980fdf0cd348",
        "colab": {
          "base_uri": "https://localhost:8080/"
        }
      },
      "execution_count": 40,
      "outputs": [
        {
          "output_type": "stream",
          "name": "stdout",
          "text": [
            "('python',)\n"
          ]
        }
      ]
    },
    {
      "cell_type": "code",
      "source": [
        "y = 1,3,3.56,'hello','python'\n",
        "x[-1], x[-2], x[-3], x[-4], x[-5]"
      ],
      "metadata": {
        "id": "xCs-ktyyFrDL",
        "outputId": "e02a067c-4ceb-447a-8153-4b4cbaf5a72b",
        "colab": {
          "base_uri": "https://localhost:8080/"
        }
      },
      "execution_count": 47,
      "outputs": [
        {
          "output_type": "execute_result",
          "data": {
            "text/plain": [
              "('python', 'hello', 3.56, 3, 1)"
            ]
          },
          "metadata": {},
          "execution_count": 47
        }
      ]
    },
    {
      "cell_type": "code",
      "source": [],
      "metadata": {
        "id": "bCrg4wZxGTgv"
      },
      "execution_count": null,
      "outputs": []
    },
    {
      "cell_type": "markdown",
      "source": [],
      "metadata": {
        "id": "tQAQLekl4ODM"
      }
    }
  ],
  "metadata": {
    "colab": {
      "name": "Tuples.ipynb",
      "provenance": [],
      "collapsed_sections": [],
      "authorship_tag": "ABX9TyMiheScyRLvFx531XMysrR5",
      "include_colab_link": true
    },
    "kernelspec": {
      "display_name": "Python 3",
      "name": "python3"
    },
    "language_info": {
      "name": "python"
    }
  },
  "nbformat": 4,
  "nbformat_minor": 0
}