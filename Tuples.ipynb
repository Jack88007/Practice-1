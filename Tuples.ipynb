{
  "cells": [
    {
      "cell_type": "code",
      "source": [
        "a = ()\n",
        "b = (1,)\n",
        "c = (1, 2.3)\n",
        "d = 1, 2.3, 'hello'\n",
        "print('',a)\n",
        "print('',b)\n",
        "print('',c)\n",
        "print('',d)"
      ],
      "metadata": {
        "colab": {
          "base_uri": "https://localhost:8080/"
        },
        "id": "Mq_Q0piXCfUD",
        "outputId": "c846e793-5ed6-49eb-9908-32c2244cb20a"
      },
      "execution_count": 10,
      "outputs": [
        {
          "output_type": "stream",
          "name": "stdout",
          "text": [
            " ()\n",
            " (1,)\n",
            " (1, 2.3)\n",
            " (1, 2.3, 'hello')\n"
          ]
        }
      ]
    }
  ],
  "metadata": {
    "colab": {
      "name": "Tuples.ipynb",
      "provenance": []
    },
    "kernelspec": {
      "display_name": "Python 3",
      "name": "python3"
    },
    "language_info": {
      "name": "python"
    }
  },
  "nbformat": 4,
  "nbformat_minor": 0
}